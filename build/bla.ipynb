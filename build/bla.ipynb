{
 "cells": [
  {
   "cell_type": "code",
   "execution_count": null,
   "metadata": {},
   "outputs": [],
   "source": []
  },
  {
   "cell_type": "code",
   "execution_count": 1,
   "metadata": {},
   "outputs": [
    {
     "data": {
      "image/png": "[encoded data removed]",
      "text/plain": [
       "<Figure size 500x500 with 1 Axes>"
      ]
     },
     "metadata": {},
     "output_type": "display_data"
    },
    {
     "data": {
      "text/plain": [
       "'\\nfig = plt.figure(figsize =(5, 5))\\nax = fig.add_axes([0, 0, 1, 1])\\nplt.xlabel(\"Number of Nodes\")\\nplt.ylabel(\"Compression ratio\")\\nx = []\\ny = []\\n\\nfor i in range(0,10):\\n    print(y)\\n    y.append(statistics.mean(ie_c[i])/statistics.mean(original[i]))\\n    x.append((i+1)*1000)\\nbp = ax.bar(x, y, linewidth=2, capsize=6)\\nplt.savefig(\"/home/dtkhuat/plots/c_rate/ie_var_num_nodes.pdf\", format=\"pdf\", bbox_inches=\"tight\")\\nplt.show()\\nplt.close()\\n'"
      ]
     },
     "execution_count": 1,
     "metadata": {},
     "output_type": "execute_result"
    }
   ],
   "source": [
    "path = \"/home/dtkhuat/results/random_graphs/var_edge_len/\"\n",
    "str_len = 4\n",
    "increment = 4\n",
    "c_size = []\n",
    "original = []\n",
    "ir_c = []\n",
    "ie_c = []\n",
    "while str_len < 65:\n",
    "    temp = []\n",
    "    temp2 = []\n",
    "    temp3 = []\n",
    "    with open(path+str(str_len)+\"/\"+'23_04_24.csv', 'r') as csv_file:\n",
    "        csvreader = csv.reader(csv_file)\n",
    "        for row in csvreader:\n",
    "            temp.append(float(row[1]))\n",
    "            temp2.append(float(row[2]))\n",
    "            temp3.append(float(row[3]))\n",
    "    original.append(temp)\n",
    "    ir_c.append(temp2)\n",
    "    ie_c.append(temp3)\n",
    "    str_len = str_len + increment\n",
    "\n",
    "fig = plt.figure(figsize =(5, 5))\n",
    "ax = fig.add_axes([0, 0, 1, 1])\n",
    "plt.xlabel(\"Maximum label size of node and edges\")\n",
    "plt.ylabel(\"Compression ratio\")\n",
    "#bp = ax.stem(timings,showfliers=False,showmeans=True)\n",
    "x = []\n",
    "y = []\n",
    "\n",
    "for i in range(0,16):\n",
    "    y.append(statistics.mean(ir_c[i])/statistics.mean(original[i]))\n",
    "    x.append((i+1)*4)\n",
    "bp = ax.bar(x, y, linewidth=2, capsize=6)\n",
    "plt.savefig(\"/home/dtkhuat/plots/c_rate/ir_var_edge_len.pdf\", format=\"pdf\", bbox_inches=\"tight\")\n",
    "plt.show()\n",
    "plt.close()\n",
    "\n",
    "fig = plt.figure(figsize =(5, 5))\n",
    "ax = fig.add_axes([0, 0, 1, 1])\n",
    "plt.xlabel(\"Maximum label size of node and edges\")\n",
    "plt.ylabel(\"Compression ratio\")\n",
    "x = []\n",
    "y = []\n",
    "\n",
    "for i in range(0,16):\n",
    "    y.append(statistics.mean(ie_c[i])/statistics.mean(original[i]))\n",
    "    x.append((i+1)*4)\n",
    "bp = ax.bar(x, y, linewidth=2, capsize=6)\n",
    "plt.savefig(\"/home/dtkhuat/plots/c_rate/ie_var_edge_len.pdf\", format=\"pdf\", bbox_inches=\"tight\")\n",
    "plt.show()\n",
    "plt.close()"
   ]
  },
  {
   "cell_type": "code",
   "execution_count": null,
   "metadata": {},
   "outputs": [],
   "source": []
  }
 ],
 "metadata": {
  "kernelspec": {
   "display_name": "Python 3",
   "language": "python",
   "name": "python3"
  },
  "language_info": {
   "codemirror_mode": {
    "name": "ipython",
    "version": 3
   },
   "file_extension": ".py",
   "mimetype": "text/x-python",
   "name": "python",
   "nbconvert_exporter": "python",
   "pygments_lexer": "ipython3",
   "version": "3.11.7"
  }
 },
 "nbformat": 4,
 "nbformat_minor": 2
}
