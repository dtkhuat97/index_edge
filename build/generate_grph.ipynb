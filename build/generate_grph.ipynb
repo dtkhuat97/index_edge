{
 "cells": [
  {
   "cell_type": "code",
   "execution_count": null,
   "metadata": {},
   "outputs": [],
   "source": [
    "##GENERATE GRAPH RANDOM NUM NODES"
   ]
  },
  {
   "cell_type": "code",
   "execution_count": 1,
   "metadata": {},
   "outputs": [],
   "source": [
    "#AVAILABLE CHARS\n",
    "import random\n",
    "import sys\n",
    "from subprocess import call\n",
    "avail_chars = ['0123456789abcdefghijklmnopqrstuvwxyz']\n",
    "#Für jeden Knoten die Länge des Strings random ziehen und dann jeden einzelnen char ziehen\n",
    "compressed_file = \"random\"\n",
    "num_node_labels = 1000\n",
    "num_edge_labels = 4\n",
    "num_edges = 1000\n",
    "str_len = 32\n",
    "\n",
    "researched_path = 'var_num_edge_labels3/'\n",
    "increment = 4\n",
    "while num_edge_labels <= 64:\n",
    "    researched = str(num_edge_labels)\n",
    "    call([\"mkdir\",\"/home/dtkhuat/results/random_graphs/\"+researched_path+researched])\n",
    "    call([\"mkdir\",\"/home/dtkhuat/results/random_nodes/\"+researched_path+researched])\n",
    "    call([\"mkdir\",\"/home/dtkhuat/results/random_edges/\"+researched_path+researched])\n",
    "    for i in range(100):\n",
    "        edges = []\n",
    "        node_labels = []\n",
    "        edge_labels = []\n",
    "        while len(node_labels) < num_node_labels:\n",
    "            node_length = random.randrange(1, str_len)\n",
    "            node_string = \"<\"\n",
    "            for text_char in range(node_length):\n",
    "                node_string = node_string + (avail_chars[0][random.randrange(0, len(avail_chars[0]))])\n",
    "            node_string = node_string + \">\"\n",
    "            if(node_string not in node_labels):\n",
    "                node_labels.append(node_string)\n",
    "            \n",
    "        #print(node_labels)\n",
    "\n",
    "        while len(edge_labels) < num_edge_labels:\n",
    "            label_length = random.randrange(1, str_len)\n",
    "            label_string = \"<\"\n",
    "            for text_char in range(label_length):\n",
    "                label_string = label_string + (avail_chars[0][random.randrange(0, len(avail_chars[0]))])\n",
    "            label_string = label_string + \">\"\n",
    "            if(label_string not in edge_labels):\n",
    "                edge_labels.append(label_string)\n",
    "        #print(labels)\n",
    "\n",
    "        #WRITE random combination of <NODE><EDGE><NODE> to .nt file\n",
    "\n",
    "\n",
    "        not_taken_edge = list(range(0,len(edge_labels)))\n",
    "        while len(edges)<num_edges:\n",
    "            p =\"\"\n",
    "            if len(edges)+len(not_taken_edge) == num_edges:\n",
    "                p = edge_labels[not_taken_edge[0]]\n",
    "                not_taken_edge.remove(not_taken_edge[0])\n",
    "            else:\n",
    "                edge_labels_id = random.randrange(0, len(edge_labels))\n",
    "                p = edge_labels[edge_labels_id]\n",
    "                if edge_labels_id in not_taken_edge:\n",
    "                    not_taken_edge.remove(edge_labels_id)\n",
    "            s = node_labels[random.randrange(0, num_node_labels)]\n",
    "            o = node_labels[random.randrange(0, num_node_labels)]\n",
    "            edge = s + \" \" + p + \" \" + o + \" .\" +\"\\n\"\n",
    "            if edge not in edges:\n",
    "                edges.append(edge)\n",
    "        #print(edges)\n",
    "        \n",
    "\n",
    "\n",
    "        path1 = \"/home/dtkhuat/results/random_graphs/\"+researched_path+researched+ \"/\" + compressed_file+ \"_\" + str(num_node_labels) + \"_\" + str(num_edge_labels) + \"_\" + str(num_edges) + \"_\" +str(i) + \".ttl\"\n",
    "        f = open(path1, \"w\")\n",
    "        for edge in range(num_edges):\n",
    "            f.write(edges[edge])\n",
    "        f.close()\n",
    "\n",
    "        path_nodes = \"/home/dtkhuat/results/random_nodes/\"+researched_path+researched + \"/\" + compressed_file+ \"_\"  + str(num_node_labels) + \"_\" + str(num_edge_labels) + \"_\" + str(num_edges) + \"_\" +str(i) +\".txt\"\n",
    "        path_edges = \"/home/dtkhuat/results/random_edges/\"+researched_path+researched + \"/\" + compressed_file+ \"_\" + str(num_node_labels) + \"_\" + str(num_edge_labels) + \"_\" + str(num_edges) + \"_\" +str(i) +\".txt\"\n",
    "        \n",
    "        f = open(path_nodes, \"w\")\n",
    "        for el in node_labels:\n",
    "            f.write(el + \"\\n\")\n",
    "        f.close()\n",
    "        f = open(path_edges, \"w\")\n",
    "        for el in edge_labels:\n",
    "            f.write(el + \"\\n\")\n",
    "        f.close()\n",
    "        #print(str(str_len) + \",\" + str(i))\n",
    "    num_edge_labels = num_edge_labels + increment"
   ]
  },
  {
   "cell_type": "markdown",
   "metadata": {},
   "source": [
    "##GENERATE GRAPH NUM EDGE LABELS"
   ]
  },
  {
   "cell_type": "code",
   "execution_count": 5,
   "metadata": {},
   "outputs": [
    {
     "name": "stdout",
     "output_type": "stream",
     "text": [
      "[2, 3, 4, 5, 6]\n"
     ]
    }
   ],
   "source": [
    "p = [1,2,3,4,5,6]\n",
    "p.remove(p[0])\n",
    "print(p)"
   ]
  }
 ],
 "metadata": {
  "kernelspec": {
   "display_name": "Python 3",
   "language": "python",
   "name": "python3"
  },
  "language_info": {
   "codemirror_mode": {
    "name": "ipython",
    "version": 3
   },
   "file_extension": ".py",
   "mimetype": "text/x-python",
   "name": "python",
   "nbconvert_exporter": "python",
   "pygments_lexer": "ipython3",
   "version": "3.11.7"
  }
 },
 "nbformat": 4,
 "nbformat_minor": 2
}
